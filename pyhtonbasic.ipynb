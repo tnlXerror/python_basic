{
  "nbformat": 4,
  "nbformat_minor": 0,
  "metadata": {
    "colab": {
      "provenance": []
    },
    "kernelspec": {
      "name": "python3",
      "display_name": "Python 3"
    },
    "language_info": {
      "name": "python"
    }
  },
  "cells": [
    {
      "cell_type": "code",
      "execution_count": null,
      "metadata": {
        "id": "QCq-xwktu_Ub"
      },
      "outputs": [],
      "source": []
    },
    {
      "cell_type": "markdown",
      "source": [
        "1. What is Python, and why is it popular?\n",
        "   =>  Python is a very simple and easy to learn Programming language.\n",
        "   it is popular because it has a very rich libraries and have a large\n",
        "   community for helping and solving problem.\n",
        "\n",
        "2. What is an interpreter in Python?\n",
        "  => interpreter in python is a progam that read and execute python line\n",
        "     by line ,converting in into machine-readable instructions. it handle code\n",
        "     execution.\n",
        "       \n",
        "3. What are pre-defined keywords in Python?\n",
        "   => python keywords are reversed words that have special meaning in the\n",
        "      language\n",
        "      ex-  if,elif,else -> used for decision making.\n",
        "          loop, while loop\n",
        "          break, continue ,pass.\n",
        "\n",
        "4. Can keywords be used as variable names?\n",
        "  => Keywords cannot be used as a variable names because keywords are\n",
        "     reserved words that have special meaning in the programing language.\n",
        "    \n",
        "5. What is mutability in Python?\n",
        "  => mutablinity in python mean any thing that can be change after creation\n",
        "     or modify after created. ex- list, dict.\n",
        "\n",
        "6. Why are lists mutable, but tuples are immutable?\n",
        "  => lists are mutable because it can be modify after they created in the\n",
        "     same memory space. But tuples are immutable because once they created\n",
        "     they can't be modify if we try to modify them they will modify but\n",
        "     created a new string in memory.\n",
        "\n",
        "7. What is the difference between “==” and “is” operators in Python?\n",
        "  => \"==\" is used to check the both object have same value.\n",
        "     \"is\" is used to check two object exact in same memory.\n",
        "\n",
        "8. What are logical operators in Python?\n",
        "  =>logical operators are used for combining condition(and,or,not).\n",
        "      ex.  and = true is both conditon are true.\n",
        "           or  =  true if at least  one conditon are true.\n",
        "           not = reverse the truth values (true become false).\n",
        "    \n",
        "9.What is type casting in Python?\n",
        "  => type casting mean changing the data type into another\n",
        "      data type ex- a = 5 ( value of a is integer)   str(a)\n",
        "        now the data type of value a is String mean a = \"5\".\n",
        "\n",
        "10. What is the difference between implicit and explicit type casting?\n",
        " => when pyhton automatically convert the one data type to another data type then called implicit  ex- a = 3+2.4 a become float.\n",
        "   when we manually change the data type using function like str(), int(),float(),str() called expilict.\n",
        "\n",
        "11. What is the purpose of conditional statements in Python?\n",
        " => the main purpose of conditional statements in python is used to run code only if certain condition are true. ex-if,elif,else.\n",
        "\n",
        "12. How does the elif statement work?\n",
        "  => we add more condition under elif to check if the  first is false.\n",
        "\n",
        "13. What is the difference between for and while loops?\n",
        "  => when you want to repeat until the condition become false.\n",
        "     ex:- i=0:\n",
        "        while i < 5:\n",
        "        Print(i)\n",
        "        i+=1\n",
        "     for loop: when you know the number of iteration  or need to iterate\n",
        "               number of sequence .\n",
        "               ex:- for i in range (0,5)\n",
        "                   Print(i)\n",
        "14. Describe a scenario where a while loop is more suitable than a for loop?\n",
        "   => while is better than a for loop when you don't know in advance how many time you need to repeat the action. Insted the loop contibues until a certain condition is true.\n",
        "\n",
        "\n",
        "   PRACTICAL QUESTION\n",
        "\n",
        "   "
      ],
      "metadata": {
        "id": "ksoTKIiUywTU"
      }
    },
    {
      "cell_type": "markdown",
      "source": [
        "1. Write a Python program to print \"Hello, World!"
      ],
      "metadata": {
        "id": "s0UbtKEo9_S5"
      }
    },
    {
      "cell_type": "code",
      "source": [
        "print(\"Hello world\")"
      ],
      "metadata": {
        "colab": {
          "base_uri": "https://localhost:8080/"
        },
        "id": "FSD8pgR59--1",
        "outputId": "1b4943ef-1d9c-4ce2-c7f3-39728cdd2834"
      },
      "execution_count": 1,
      "outputs": [
        {
          "output_type": "stream",
          "name": "stdout",
          "text": [
            "Hello world\n"
          ]
        }
      ]
    },
    {
      "cell_type": "markdown",
      "source": [
        "2. Write a Python program that displays your name and age?"
      ],
      "metadata": {
        "id": "kkOuJrdg-Qcd"
      }
    },
    {
      "cell_type": "code",
      "source": [
        "name = \"Prince singh\"\n",
        "age = \"23\"\n",
        "print(\"my name is\", name ,\" And i am\", age,\"old\")"
      ],
      "metadata": {
        "colab": {
          "base_uri": "https://localhost:8080/"
        },
        "id": "9RKX9XOp-bQP",
        "outputId": "48f9e7fc-1c35-4872-c8b6-8817c5c993dd"
      },
      "execution_count": 9,
      "outputs": [
        {
          "output_type": "stream",
          "name": "stdout",
          "text": [
            "my name is Prince singh  And i am 23 old\n"
          ]
        }
      ]
    },
    {
      "cell_type": "markdown",
      "source": [
        "3. Write code to print all the pre-defined keywords in Python using the keyword library?\n"
      ],
      "metadata": {
        "id": "x3_BAkeL_pCM"
      }
    },
    {
      "cell_type": "code",
      "source": [
        "\n",
        "import keyword\n",
        "#printing all keyword by importing keyword librarie\n",
        "print(\"python keyword\")\n",
        "for kw in keyword.kwlist:\n",
        "  print(kw)"
      ],
      "metadata": {
        "colab": {
          "base_uri": "https://localhost:8080/"
        },
        "collapsed": true,
        "id": "vbdRWL5__vqD",
        "outputId": "35e52096-7f27-42b7-e2e0-95d0367e5420"
      },
      "execution_count": 11,
      "outputs": [
        {
          "output_type": "stream",
          "name": "stdout",
          "text": [
            "python keyword\n",
            "False\n",
            "None\n",
            "True\n",
            "and\n",
            "as\n",
            "assert\n",
            "async\n",
            "await\n",
            "break\n",
            "class\n",
            "continue\n",
            "def\n",
            "del\n",
            "elif\n",
            "else\n",
            "except\n",
            "finally\n",
            "for\n",
            "from\n",
            "global\n",
            "if\n",
            "import\n",
            "in\n",
            "is\n",
            "lambda\n",
            "nonlocal\n",
            "not\n",
            "or\n",
            "pass\n",
            "raise\n",
            "return\n",
            "try\n",
            "while\n",
            "with\n",
            "yield\n"
          ]
        }
      ]
    },
    {
      "cell_type": "markdown",
      "source": [
        "4. Write a program that checks if a given word is a Python keyword"
      ],
      "metadata": {
        "id": "aVMFeSQSApLA"
      }
    },
    {
      "cell_type": "code",
      "source": [
        "import keyword\n",
        "word = input(\"enter your words:\")\n",
        "if keyword.iskeyword(word):\n",
        "   print(f\"'{word}' is a Python keyword.\")\n",
        "else:\n",
        "    print(f\"'{word}' is not a Python keyword.\")"
      ],
      "metadata": {
        "colab": {
          "base_uri": "https://localhost:8080/"
        },
        "id": "HlV-DXAmArG1",
        "outputId": "c8a237ad-8935-4d46-bda0-59aa7046377e"
      },
      "execution_count": 13,
      "outputs": [
        {
          "output_type": "stream",
          "name": "stdout",
          "text": [
            "enter your wordsif\n",
            "'if' is a Python keyword.\n"
          ]
        }
      ]
    },
    {
      "cell_type": "markdown",
      "source": [
        "5. Create a list and tuple in Python, and demonstrate how attempting to change an element works differently\n",
        "for each"
      ],
      "metadata": {
        "id": "Kk3NUnmSB6Vb"
      }
    },
    {
      "cell_type": "code",
      "source": [
        "my_list = [1, 2, 3]\n",
        "my_tuples = (1, 2, 3)\n",
        "my_list[1] = 20\n",
        "print(\"modify list is \",my_list)\n",
        "'''my_tuples[1]= 22\n",
        "print(\"modify tuples\",my_tuples)\n",
        "#it will give error  so we use  exception '''\n",
        "try:\n",
        "    my_tuples[1] = 20\n",
        "except TypeError as e:\n",
        "    print(\"Error when modifying tuple:\", e)"
      ],
      "metadata": {
        "colab": {
          "base_uri": "https://localhost:8080/"
        },
        "id": "QUilO8hLB9Dp",
        "outputId": "6ecddf5b-f576-4439-ce53-0522d39e1cf4"
      },
      "execution_count": 18,
      "outputs": [
        {
          "output_type": "stream",
          "name": "stdout",
          "text": [
            "modify list is  [1, 20, 3]\n",
            "Error when modifying tuple: 'tuple' object does not support item assignment\n"
          ]
        }
      ]
    },
    {
      "cell_type": "markdown",
      "source": [
        "6. Write a function to demonstrate the behavior of mutable and immutable arguments"
      ],
      "metadata": {
        "id": "cKb-ealIDIZH"
      }
    },
    {
      "cell_type": "code",
      "source": [
        "''' don't know how to solve this"
      ],
      "metadata": {
        "id": "61ztvBx3DKk7"
      },
      "execution_count": null,
      "outputs": []
    },
    {
      "cell_type": "markdown",
      "source": [
        "8. Write a program to demonstrate the use of logical operators.\n"
      ],
      "metadata": {
        "id": "5PlkMbXBDg5z"
      }
    },
    {
      "cell_type": "code",
      "source": [
        "x = int(input(\"Enter the first number: \"))\n",
        "y = int(input(\"Enter the second number: \"))\n",
        "\n",
        "if x > 0 and y > 0:\n",
        "    print(\"Both numbers are positive.\")\n",
        "\n",
        "if x > 0 or y > 0:\n",
        "    print(\"At least one number is positive.\")\n",
        "\n",
        "if not (x > 0 and y > 0):\n",
        "    print(\"Both numbers are not positive.\")"
      ],
      "metadata": {
        "colab": {
          "base_uri": "https://localhost:8080/"
        },
        "id": "oe-kQC-QD-ei",
        "outputId": "871b562d-196d-41d3-892e-4b651053c03d"
      },
      "execution_count": 19,
      "outputs": [
        {
          "output_type": "stream",
          "name": "stdout",
          "text": [
            "Enter the first number: 3\n",
            "Enter the second number: 6\n",
            "Both numbers are positive.\n",
            "At least one number is positive.\n"
          ]
        }
      ]
    },
    {
      "cell_type": "markdown",
      "source": [
        "9. Write a Python program to convert user input from string to integer, float, and boolean types"
      ],
      "metadata": {
        "id": "iWkzuWsaEM2U"
      }
    },
    {
      "cell_type": "code",
      "source": [
        "user_input = input(\"Enter a value: \")\n",
        "\n",
        "integer_value = int(user_input)\n",
        "\n",
        "float_value = float(user_input)\n",
        "\n",
        "boolean_value = bool(user_input)\n",
        "\n",
        "print(\"Integer:\", integer_value)\n",
        "print(\"Float:\", float_value)\n",
        "print(\"Boolean:\", boolean_value)"
      ],
      "metadata": {
        "colab": {
          "base_uri": "https://localhost:8080/"
        },
        "id": "sCKOY_wBESHK",
        "outputId": "513b17b7-5cde-46e9-e787-46a75105170d"
      },
      "execution_count": 22,
      "outputs": [
        {
          "output_type": "stream",
          "name": "stdout",
          "text": [
            "Enter a value: 5\n",
            "Integer: 5\n",
            "Float: 5.0\n",
            "Boolean: True\n"
          ]
        }
      ]
    },
    {
      "cell_type": "markdown",
      "source": [
        "10 Write code to demonstrate type casting with list elements"
      ],
      "metadata": {
        "id": "anZJT2J4FKH2"
      }
    },
    {
      "cell_type": "code",
      "source": [
        "str_list = [\"1\", \"2\", \"3\", \"4\"]\n",
        "\n",
        "int_list = [int(item) for item in str_list]\n",
        "\n",
        "print(\"Original list (strings):\", str_list)\n",
        "print(\"Converted list (integers):\", int_list)"
      ],
      "metadata": {
        "colab": {
          "base_uri": "https://localhost:8080/"
        },
        "id": "j9h9ffG-FMN3",
        "outputId": "6eea8599-2cb9-49e2-b236-60a2c9dc0b86"
      },
      "execution_count": 23,
      "outputs": [
        {
          "output_type": "stream",
          "name": "stdout",
          "text": [
            "Original list (strings): ['1', '2', '3', '4']\n",
            "Converted list (integers): [1, 2, 3, 4]\n"
          ]
        }
      ]
    },
    {
      "cell_type": "markdown",
      "source": [
        "11 Write a program that checks if a number is positive, negative, or zero0"
      ],
      "metadata": {
        "id": "7mVscsjJFwOC"
      }
    },
    {
      "cell_type": "code",
      "source": [
        "number = float(input(\"Enter a number: \"))\n",
        "\n",
        "if number > 0:\n",
        "    print(\"The number is positive.\")\n",
        "elif number < 0:\n",
        "    print(\"The number is negative.\")\n",
        "else:\n",
        "    print(\"The number is zero.\")"
      ],
      "metadata": {
        "colab": {
          "base_uri": "https://localhost:8080/"
        },
        "id": "RrNJHXJ9FyI-",
        "outputId": "c0f95757-95bd-4c5b-ddff-4810da58a1f8"
      },
      "execution_count": 24,
      "outputs": [
        {
          "output_type": "stream",
          "name": "stdout",
          "text": [
            "Enter a number: 4\n",
            "The number is positive.\n"
          ]
        }
      ]
    },
    {
      "cell_type": "markdown",
      "source": [
        "12  Write a for loop to print numbers from 1 to 10"
      ],
      "metadata": {
        "id": "Vxj4FUn7GBHP"
      }
    },
    {
      "cell_type": "code",
      "source": [
        "for i in range(1,11):\n",
        "  print(i)"
      ],
      "metadata": {
        "colab": {
          "base_uri": "https://localhost:8080/"
        },
        "id": "-XkEDJNAGDB2",
        "outputId": "7fc83eb9-cb90-4e25-da00-ba3501de64e3"
      },
      "execution_count": 29,
      "outputs": [
        {
          "output_type": "stream",
          "name": "stdout",
          "text": [
            "1\n",
            "2\n",
            "3\n",
            "4\n",
            "5\n",
            "6\n",
            "7\n",
            "8\n",
            "9\n",
            "10\n"
          ]
        }
      ]
    },
    {
      "cell_type": "markdown",
      "source": [
        "13 Write a Python program to find the sum of all even numbers between 1 and 50.\n"
      ],
      "metadata": {
        "id": "ZSRmYcbJGcMW"
      }
    },
    {
      "cell_type": "code",
      "source": [
        "even_sum = sum(num for num in range(1, 50) if num % 2 == 0)\n",
        "\n",
        "print(\"The sum of all even numbers between 1 and 500 is:\", even_sum)"
      ],
      "metadata": {
        "colab": {
          "base_uri": "https://localhost:8080/"
        },
        "id": "8DpezkvUGeqI",
        "outputId": "90c67b7e-2d01-40ff-e1c8-eaa6875468a8"
      },
      "execution_count": 31,
      "outputs": [
        {
          "output_type": "stream",
          "name": "stdout",
          "text": [
            "The sum of all even numbers between 1 and 500 is: 600\n"
          ]
        }
      ]
    },
    {
      "cell_type": "markdown",
      "source": [
        "14 Write a program to reverse a string using a while loop"
      ],
      "metadata": {
        "id": "eJW4yXymG1ev"
      }
    },
    {
      "cell_type": "code",
      "source": [
        "user_string = input(\"Enter a string: \")\n",
        "\n",
        "reversed_string = \"\"\n",
        "i = len(user_string) - 1\n",
        "\n",
        "while i >= 0:\n",
        "    reversed_string += user_string[i]\n",
        "    i -= 1\n",
        "\n",
        "print(\"Reversed string:\", reversed_string)"
      ],
      "metadata": {
        "colab": {
          "base_uri": "https://localhost:8080/"
        },
        "id": "8sw9743QG5CI",
        "outputId": "8b7a986a-b3cb-4aa6-cbc9-e0e2fc8a17ed"
      },
      "execution_count": 32,
      "outputs": [
        {
          "output_type": "stream",
          "name": "stdout",
          "text": [
            "Enter a string: prince\n",
            "Reversed string: ecnirp\n"
          ]
        }
      ]
    },
    {
      "cell_type": "markdown",
      "source": [
        "15 Write a Python program to calculate the factorial of a number provided by the user using a while loop."
      ],
      "metadata": {
        "id": "TJFm2DHKHF2x"
      }
    },
    {
      "cell_type": "code",
      "source": [
        "number = int(input(\"Enter a number: \"))\n",
        "\n",
        "factorial = 1\n",
        "i = number\n",
        "\n",
        "while i > 0:\n",
        "    factorial *= i\n",
        "    i -= 1\n",
        "\n",
        "print(f\"The factorial of {number} is:\", factorial)"
      ],
      "metadata": {
        "colab": {
          "base_uri": "https://localhost:8080/"
        },
        "id": "fATPOdGtHHm7",
        "outputId": "745e7f4b-95cb-486a-955d-492b19aa97ca"
      },
      "execution_count": 33,
      "outputs": [
        {
          "output_type": "stream",
          "name": "stdout",
          "text": [
            "Enter a number: 5\n",
            "The factorial of 5 is: 120\n"
          ]
        }
      ]
    }
  ]
}